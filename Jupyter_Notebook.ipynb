{
 "cells": [
  {
   "cell_type": "markdown",
   "metadata": {},
   "source": [
    "<center>\n",
    "    <img src=\"https://cf-courses-data.s3.us.cloud-object-storage.appdomain.cloud/IBMDeveloperSkillsNetwork-DS0105EN-SkillsNetwork/labs/Module2/images/SN_web_lightmode.png\" width=\"300\" alt=\"cognitiveclass.ai logo\">\n",
    "</center>\n"
   ]
  },
  {
   "cell_type": "markdown",
   "metadata": {},
   "source": [
    "#### Add your code below following the instructions given in the course\n"
   ]
  },
  {
   "cell_type": "markdown",
   "metadata": {
    "tags": []
   },
   "source": [
    "Data Science tool and Ecosystem"
   ]
  },
  {
   "cell_type": "markdown",
   "metadata": {
    "tags": []
   },
   "source": [
    "In this notebook, Data Science and Ecosystem are summarized"
   ]
  },
  {
   "cell_type": "markdown",
   "metadata": {
    "jupyter": {
     "source_hidden": true
    },
    "tags": []
   },
   "source": [
    "title_markdown = \"\"\"\n",
    "# Data Science Tools and Ecosystem\n",
    "\"\"\"\n",
    "# Save the Markdown cell to a file\n",
    "with open(\"DataScienceEcosystem.ipynb\", \"w\") as file:\n",
    "    file.write(title_markdown)"
   ]
  },
  {
   "cell_type": "code",
   "execution_count": 16,
   "metadata": {
    "tags": []
   },
   "outputs": [
    {
     "name": "stdout",
     "output_type": "stream",
     "text": [
      "Welcome to my JupyterLite Notebook showcasing various data science tools and techniques.\n"
     ]
    }
   ],
   "source": [
    "print(\"Welcome to my JupyterLite Notebook showcasing various data science tools and techniques.\")\n"
   ]
  },
  {
   "cell_type": "code",
   "execution_count": 7,
   "metadata": {},
   "outputs": [
    {
     "name": "stdout",
     "output_type": "stream",
     "text": [
      "\n",
      "Data Science Languages:\n",
      "- Python\n",
      "- R\n",
      "- Julia\n"
     ]
    }
   ],
   "source": [
    "# Exercise 4: Data Science Languages\n",
    "languages = [\"Python\", \"R\", \"Julia\"]\n",
    "print(\"\\nData Science Languages:\")\n",
    "for language in languages:\n",
    "    print(f\"- {language}\")"
   ]
  },
  {
   "cell_type": "code",
   "execution_count": 8,
   "metadata": {
    "tags": []
   },
   "outputs": [
    {
     "name": "stdout",
     "output_type": "stream",
     "text": [
      "\n",
      "Data Science Libraries:\n",
      "- NumPy\n",
      "- Pandas\n",
      "- Matplotlib\n",
      "- Seaborn\n",
      "- Scikit-learn\n"
     ]
    }
   ],
   "source": [
    "# Exercise 5: Data Science Libraries\n",
    "libraries = [\"NumPy\", \"Pandas\", \"Matplotlib\", \"Seaborn\", \"Scikit-learn\"]\n",
    "print(\"\\nData Science Libraries:\")\n",
    "for library in libraries:\n",
    "    print(f\"- {library}\")"
   ]
  },
  {
   "cell_type": "code",
   "execution_count": 9,
   "metadata": {
    "tags": []
   },
   "outputs": [
    {
     "name": "stdout",
     "output_type": "stream",
     "text": [
      "\n",
      "Data Science Tools Table:\n",
      "| Tool\t\t\t| Description\t\t\t|\n",
      "| -------------- | ----------------------------- |\n",
      "| Jupyter\t\t\t| Interactive computing\t\t\t|\n",
      "| VS Code\t\t\t| Integrated development\t\t\t|\n",
      "| GitHub\t\t\t| Version control and hosting\t\t\t|\n",
      "| Tableau\t\t\t| Data visualization\t\t\t|\n"
     ]
    }
   ],
   "source": [
    "# Exercise 6: Data Science Tools Table\n",
    "tools_table = [\n",
    "    {\"Tool\": \"Jupyter\", \"Description\": \"Interactive computing\"},\n",
    "    {\"Tool\": \"VS Code\", \"Description\": \"Integrated development\"},\n",
    "    {\"Tool\": \"GitHub\", \"Description\": \"Version control and hosting\"},\n",
    "    {\"Tool\": \"Tableau\", \"Description\": \"Data visualization\"}\n",
    "]\n",
    "print(\"\\nData Science Tools Table:\")\n",
    "print(\"| Tool\\t\\t\\t| Description\\t\\t\\t|\")\n",
    "print(\"| -------------- | ----------------------------- |\")\n",
    "for tool in tools_table:\n",
    "    print(f\"| {tool['Tool']}\\t\\t\\t| {tool['Description']}\\t\\t\\t|\")"
   ]
  },
  {
   "cell_type": "markdown",
   "metadata": {
    "tags": []
   },
   "source": [
    "Below are a few examples of evaluating arithematic expression in python"
   ]
  },
  {
   "cell_type": "code",
   "execution_count": 1,
   "metadata": {
    "tags": []
   },
   "outputs": [
    {
     "data": {
      "text/plain": [
       "17"
      ]
     },
     "execution_count": 1,
     "metadata": {},
     "output_type": "execute_result"
    }
   ],
   "source": [
    "(3*4)+5"
   ]
  },
  {
   "cell_type": "code",
   "execution_count": 3,
   "metadata": {
    "tags": []
   },
   "outputs": [
    {
     "data": {
      "text/plain": [
       "2.0"
      ]
     },
     "execution_count": 3,
     "metadata": {},
     "output_type": "execute_result"
    }
   ],
   "source": [
    "# This will convert minutes to hour by dividing\n",
    "120/60\n"
   ]
  },
  {
   "cell_type": "markdown",
   "metadata": {
    "tags": []
   },
   "source": [
    "\n",
    "\n",
    "objectives<BR\n",
    "\n",
    "    \"Demonstrate knowledge of data science languages.\",\n",
    "    \"Showcase proficiency in using data science libraries.\",\n",
    "    \"Introduce various data science tools.\",\n",
    "    \"Perform basic arithmetic operations in Python.\"\n"
   ]
  },
  {
   "cell_type": "code",
   "execution_count": 17,
   "metadata": {
    "tags": []
   },
   "outputs": [
    {
     "name": "stdout",
     "output_type": "stream",
     "text": [
      "\n",
      "Author: Ko Ko Aung\n"
     ]
    }
   ],
   "source": [
    "# Exercise 11: Author's Name\n",
    "print(\"\\nAuthor: Ko Ko Aung\")\n"
   ]
  },
  {
   "cell_type": "code",
   "execution_count": 15,
   "metadata": {
    "tags": []
   },
   "outputs": [
    {
     "name": "stdout",
     "output_type": "stream",
     "text": [
      "\n",
      "You can view my notebook on [GitHub](link-to-your-public-repository).\n"
     ]
    }
   ],
   "source": [
    "# Exercise 12: Share Notebook via GitHub\n",
    "print(\"\\nYou can view my notebook on [GitHub](link-to-your-public-repository).\")\n"
   ]
  },
  {
   "cell_type": "code",
   "execution_count": null,
   "metadata": {},
   "outputs": [],
   "source": []
  }
 ],
 "metadata": {
  "kernelspec": {
   "display_name": "Python",
   "language": "python",
   "name": "conda-env-python-py"
  },
  "language_info": {
   "codemirror_mode": {
    "name": "ipython",
    "version": 3
   },
   "file_extension": ".py",
   "mimetype": "text/x-python",
   "name": "python",
   "nbconvert_exporter": "python",
   "pygments_lexer": "ipython3",
   "version": "3.7.12"
  }
 },
 "nbformat": 4,
 "nbformat_minor": 4
}
